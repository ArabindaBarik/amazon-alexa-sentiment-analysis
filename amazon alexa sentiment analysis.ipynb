{
 "cells": [
  {
   "cell_type": "markdown",
   "metadata": {},
   "source": [
    "# Team members: \n",
    "-Bishal Sainju<br>\n",
    "-Victor Lee<br>\n",
    "-Supratik Chanda<br>\n",
    "\n",
    "# Introduction:\n",
    "This dataset consists of 3150 Amazon customer reviews(input text), ratings(1-5), date of review, \n",
    "variant and feedback of various amazon Alexa products like Alexa Echo, Echo dots, Alexa Firesticks etc.\n",
    "for learning how to train machine for sentiment analysis(or better awesomeness analysis). We use this data to \n",
    "analyze Amazon’s Alexa product, discover insights into consumer reviews and assist with machine learning models.<br>\n",
    "\n",
    "At first we thought of analyzing the sentiment of the customer reviews, but after analyzing data further, we found out that our data was biased towards positive sentiments, so whatever paraemters we chose, we wouldn't be able to \n",
    "create unbiased model. <br>\n",
    "\n",
    "Hence we decided to predict if the review is 'awesome' or 'not so awesome'. We basically assumed that if the user rating is 5 stars than, the review is awesome, and 'not so awesome', otherwise. <br>\n",
    "\n",
    "# Dataset and Analyses:\n",
    "1) First of all we checked to see if there was null value or not. There wasn't any, so it wasn't a problem.<br>\n",
    "2) We then went on to analyze the data. First we created a bar plot of no. of ratings in each feedback. We figured out<br>\n",
    "that if feedback was 1 it had rating 4 or 5 and if it was 0, it had rating 1, 2, or 3. <br>\n",
    "<img src=\"img/awsm/1.png\"><br>\n",
    "We can see that the dataset is hugely biased towards feedback 1, or in our analysis, we call it positive sentiment. \n",
    "So, we are pretty confident that whatever model we fit, the model will always be positive biased. Whatever new \n",
    "instances it gets it will try to predict it as a positive sentiment, which is not a correct represantion at all. \n",
    "So, instead of labeling the reviews as positive or negative sentiments, what we have decided to do is, \n",
    "we decided to plot a bar graph of no. of datasets that we have for each ratings.<br>\n",
    "3) We plotted bar graph of no. of records in each rating. <br> \n",
    "<img src=\"img/awsm/2.png\"><br>\n",
    "We see that there are many rating 5, so our dataset is always going to be biased towards rating '5'.\n",
    "However, what we can do is the divide the dataset into awesome reviews meaning rating '5' reviews vs not\n",
    "so awesome reviews. This is still biased but we reduce the bias to some extent. <br>\n",
    "At least we can check to see if our KNN model can perform well or not, for differentiating between 'awesome'\n",
    "and 'not so awesome' reviews or not. We expect that it will have hard time figuring this out but let's see if\n",
    "tuning in our model with appropriate parameters can do any help. <br>\n",
    "3) We had 2286 awesome reviews and 886 not awesome. So, we made another column 'awesome' with values 1 and 0. <br>\n",
    "4) Now, we went on to see if any other attributes has any significance in awesomeness of reviews. <br>\n",
    "<img src='img/awsm/3.png'><br>\n",
    "It seems like there's not much correlation in the other variables. So, we conclude that, only review text determines\n",
    "awesomeness of the reviews. So, we neglect other attributes for the further analyses.<br>\n",
    "\n",
    "# Machine Learning Preprocessing Steps:\n",
    "#### Data Preprocessing:\n",
    "We used NLTK package from NLP to preprocess the text used by the user in their reviews:<br>\n",
    "1) We first lowercased every words in the reviews of each customer.<br>\n",
    "2) Then, we tokenized each words. <br>\n",
    "3) Then, we removed the stopwords. <br>\n",
    "4) Then, we stemmed every words for efficiency in further analysis. <br>\n",
    "5) Then, we joined the words that we processed back for a user.<br>\n",
    "6) We collect all these preprocessed words for each user in corpus.<br>\n",
    "\n",
    "#### Feature Extraction:\n",
    "We then extracted the feature using tf-idf vectorizer, and also created a tf-idf matrix for 500 relevant features, in \n",
    "the bag of words collection. <br>\n",
    "\n",
    "#### Train Model:\n",
    "We then created KNN training model, and splitted our dataset into train and test sets, and then fed the train set to \n",
    "the model and trained our model on it, and then tested its performance on test set. <br>\n",
    "\n",
    "# Results:\n",
    "#### Performance Evaluation:\n",
    "We then used various metrics to evaluate its performance. \n",
    "We obtained following result:<br>\n",
    "Confusion Matrix:<br>\n",
    "<img src=\"img/awsm/7.png\"><br>\n",
    "    \n",
    "Classification Report: <br>\n",
    "<img src=\"img/awsm/8.png\"><br>\n",
    "\n",
    "#### Best Model:\n",
    "We then used grid search to figure out the best parameters for our model. And we obtained the following result:<br>\n",
    "    {'algorithm': 'auto', 'leaf_size': 30, 'metric': 'jaccard', 'n_neighbors': 10, 'weights': 'distance'}<br>\n",
    "\n",
    "We obtained the f1-score of 0.9031 for this. <br>\n",
    "Cross validation, confusion matrix and scores for one of the folds of 10-fold cross validation is shown below:<br>\n",
    "<img src=\"img/awsm/9.png\"><br>\n",
    "    \n",
    "# Conclusion:   \n",
    "1) So, we have got a pretty decent model than what we were expecting. <br>\n",
    "2) We have only used tf-idf vectorizer only, we could try our model using other feature extractor line, count vectorizer, binary vectorizer and so on. <br>\n",
    "3) Our model chose jaccard metric to be the best estimator, maybe because jaccard works better for sparse datasets. <br>\n",
    "4) We have just tried our model on 2 values of k-neighbors [5, 10] due to time constrain, we could try it on various ranges of K as well. <br>\n",
    "5) We could add more data preprocessing to further refine our texts(like lemmatization, dictionary comparision, POS removal) <br>\n",
    "6) Similarly, we have used 500 best features, we could further use PCA or we could play with this parameter as well. We haven't had enough time for doing this. If allowed more time, we can work on this. <br>\n",
    "7) We tried creating pipeline for trying out different things that we mentioned we couldn't do, but it took a long time to run, so we just left it not completed for now. <br>"
   ]
  },
  {
   "cell_type": "code",
   "execution_count": 33,
   "metadata": {},
   "outputs": [],
   "source": [
    "import matplotlib.pyplot as plt\n",
    "import re\n",
    "import nltk\n",
    "import pandas as pd\n",
    "import numpy as np\n",
    "import seaborn as sns\n",
    "from nltk.corpus import stopwords\n",
    "from nltk.stem.porter import PorterStemmer\n",
    "from sklearn.feature_extraction.text import CountVectorizer\n",
    "from sklearn.model_selection import train_test_split \n",
    "from sklearn.metrics import confusion_matrix ,accuracy_score, f1_score, precision_score, recall_score\n",
    "\n",
    "from sklearn.decomposition import PCA\n",
    "from sklearn.feature_selection import SelectKBest, chi2, f_regression, f_classif, mutual_info_classif, \\\n",
    "    mutual_info_regression, RFE\n",
    "from sklearn.model_selection import GridSearchCV\n",
    "from sklearn.neighbors import KNeighborsClassifier\n",
    "from sklearn.pipeline import Pipeline\n",
    "\n"
   ]
  },
  {
   "cell_type": "code",
   "execution_count": 34,
   "metadata": {
    "scrolled": true
   },
   "outputs": [
    {
     "data": {
      "text/html": [
       "<div>\n",
       "<style scoped>\n",
       "    .dataframe tbody tr th:only-of-type {\n",
       "        vertical-align: middle;\n",
       "    }\n",
       "\n",
       "    .dataframe tbody tr th {\n",
       "        vertical-align: top;\n",
       "    }\n",
       "\n",
       "    .dataframe thead th {\n",
       "        text-align: right;\n",
       "    }\n",
       "</style>\n",
       "<table border=\"1\" class=\"dataframe\">\n",
       "  <thead>\n",
       "    <tr style=\"text-align: right;\">\n",
       "      <th></th>\n",
       "      <th>rating</th>\n",
       "      <th>date</th>\n",
       "      <th>variation</th>\n",
       "      <th>verified_reviews</th>\n",
       "      <th>feedback</th>\n",
       "    </tr>\n",
       "  </thead>\n",
       "  <tbody>\n",
       "    <tr>\n",
       "      <th>0</th>\n",
       "      <td>5</td>\n",
       "      <td>31-Jul-18</td>\n",
       "      <td>Charcoal Fabric</td>\n",
       "      <td>Love my Echo!</td>\n",
       "      <td>1</td>\n",
       "    </tr>\n",
       "    <tr>\n",
       "      <th>1</th>\n",
       "      <td>5</td>\n",
       "      <td>31-Jul-18</td>\n",
       "      <td>Charcoal Fabric</td>\n",
       "      <td>Loved it!</td>\n",
       "      <td>1</td>\n",
       "    </tr>\n",
       "    <tr>\n",
       "      <th>2</th>\n",
       "      <td>4</td>\n",
       "      <td>31-Jul-18</td>\n",
       "      <td>Walnut Finish</td>\n",
       "      <td>\"Sometimes while playing a game, you can answe...</td>\n",
       "      <td>1</td>\n",
       "    </tr>\n",
       "    <tr>\n",
       "      <th>3</th>\n",
       "      <td>5</td>\n",
       "      <td>31-Jul-18</td>\n",
       "      <td>Charcoal Fabric</td>\n",
       "      <td>\"I have had a lot of fun with this thing. My 4...</td>\n",
       "      <td>1</td>\n",
       "    </tr>\n",
       "    <tr>\n",
       "      <th>4</th>\n",
       "      <td>5</td>\n",
       "      <td>31-Jul-18</td>\n",
       "      <td>Charcoal Fabric</td>\n",
       "      <td>Music</td>\n",
       "      <td>1</td>\n",
       "    </tr>\n",
       "  </tbody>\n",
       "</table>\n",
       "</div>"
      ],
      "text/plain": [
       "   rating       date         variation  \\\n",
       "0       5  31-Jul-18  Charcoal Fabric    \n",
       "1       5  31-Jul-18  Charcoal Fabric    \n",
       "2       4  31-Jul-18    Walnut Finish    \n",
       "3       5  31-Jul-18  Charcoal Fabric    \n",
       "4       5  31-Jul-18  Charcoal Fabric    \n",
       "\n",
       "                                    verified_reviews  feedback  \n",
       "0                                      Love my Echo!         1  \n",
       "1                                          Loved it!         1  \n",
       "2  \"Sometimes while playing a game, you can answe...         1  \n",
       "3  \"I have had a lot of fun with this thing. My 4...         1  \n",
       "4                                              Music         1  "
      ]
     },
     "execution_count": 34,
     "metadata": {},
     "output_type": "execute_result"
    }
   ],
   "source": [
    "dataset= pd.read_csv('amazon_alexa.tsv',delimiter='\\t',quoting=3)\n",
    "dataset.head()"
   ]
  },
  {
   "cell_type": "code",
   "execution_count": 35,
   "metadata": {},
   "outputs": [
    {
     "data": {
      "text/plain": [
       "rating              0\n",
       "date                0\n",
       "variation           0\n",
       "verified_reviews    0\n",
       "feedback            0\n",
       "dtype: int64"
      ]
     },
     "execution_count": 35,
     "metadata": {},
     "output_type": "execute_result"
    }
   ],
   "source": [
    "dataset.isnull().sum()"
   ]
  },
  {
   "cell_type": "code",
   "execution_count": 36,
   "metadata": {},
   "outputs": [
    {
     "data": {
      "image/png": "[encoded data removed]",
      "text/plain": [
       "<Figure size 432x288 with 1 Axes>"
      ]
     },
     "metadata": {
      "needs_background": "light"
     },
     "output_type": "display_data"
    }
   ],
   "source": [
    "temp = (dataset.groupby(['feedback']))['rating'].value_counts()\\\n",
    ".reset_index(name = \"frequency\")\n",
    "sns.barplot(x = \"feedback\", y = \"frequency\", hue = \"rating\", data = temp)\\\n",
    ".set_title(\"no. of rating in each feedbacks\")\n",
    "plt.savefig('1.png')"
   ]
  },
  {
   "cell_type": "markdown",
   "metadata": {},
   "source": [
    "We can see that the dataset is hugely biased towards feedback 1, or in our analysis, we call it positive sentiment. So, we are pretty confident that whatever model we fit, the model will always be positive biased. Whatever new instances it gets it will try to predict it as a positive sentiment, which is not a correct represantion at all. <br>\n",
    "So, instead of labeling the reviews as positive or negative sentiments, what we have decided to do is, lets plot a bar graph of no. of datasets that we have for each ratings. "
   ]
  },
  {
   "cell_type": "code",
   "execution_count": 37,
   "metadata": {},
   "outputs": [
    {
     "data": {
      "image/png": "[encoded data removed]",
      "text/plain": [
       "<Figure size 576x576 with 1 Axes>"
      ]
     },
     "metadata": {
      "needs_background": "light"
     },
     "output_type": "display_data"
    }
   ],
   "source": [
    "plt.figure(figsize=(8,8))\n",
    "ax=sns.countplot(dataset['rating'],palette=sns.color_palette(palette=\"viridis_r\"))\n",
    "ax.set_title(\"Distribution of the Amazon Alexa Rating\")\n",
    "ax.set_xlabel(\"Rating\")\n",
    "ax.set_ylabel(\"Count\")\n",
    "plt.savefig('2.png')"
   ]
  },
  {
   "cell_type": "code",
   "execution_count": 38,
   "metadata": {},
   "outputs": [
    {
     "data": {
      "text/plain": [
       "rating\n",
       "1     161\n",
       "2      96\n",
       "3     152\n",
       "4     455\n",
       "5    2286\n",
       "Name: rating, dtype: int64"
      ]
     },
     "execution_count": 38,
     "metadata": {},
     "output_type": "execute_result"
    }
   ],
   "source": [
    "dataset.groupby(['rating'])['rating'].count()"
   ]
  },
  {
   "cell_type": "markdown",
   "metadata": {},
   "source": [
    "We see that there are many rating 5, so our dataset is always going to be biased towards rating '5'. However, what we can do is the divide the dataset into awesome reviews meaning rating '5' reviews vs not so awesome reviews. This is still biased but we reduce the bias to some extent. <br>\n",
    "At least we can check to see if our KNN model can perform well or not, for differentiating between 'awesome' and 'not so awesome' reviews or not. We expect that it will have hard time figuring this out but let's see if tuning in our model with appropriate parameters can do any help. "
   ]
  },
  {
   "cell_type": "code",
   "execution_count": 39,
   "metadata": {},
   "outputs": [
    {
     "data": {
      "text/plain": [
       "awesome\n",
       "0     864\n",
       "1    2286\n",
       "Name: awesome, dtype: int64"
      ]
     },
     "execution_count": 39,
     "metadata": {},
     "output_type": "execute_result"
    }
   ],
   "source": [
    "dataset.groupby('rating').count()\n",
    "dataset['awesome'] = 0\n",
    "dataset.loc[dataset['rating'] ==5, 'awesome'] = 1\n",
    "\n",
    "y = dataset['awesome'].values\n",
    "dataset.groupby(['awesome'])['awesome'].count()\n"
   ]
  },
  {
   "cell_type": "code",
   "execution_count": 40,
   "metadata": {},
   "outputs": [
    {
     "data": {
      "text/plain": [
       "(3150, 6)"
      ]
     },
     "execution_count": 40,
     "metadata": {},
     "output_type": "execute_result"
    }
   ],
   "source": [
    "dataset.shape"
   ]
  },
  {
   "cell_type": "markdown",
   "metadata": {},
   "source": [
    "Let's look at other features other than the review comments. <br>\n",
    "Let's look at variations. (Does any variation have more positive feedback over others?)"
   ]
  },
  {
   "cell_type": "code",
   "execution_count": 61,
   "metadata": {},
   "outputs": [
    {
     "data": {
      "image/png": "[encoded data removed]",
      "text/plain": [
       "<Figure size 432x288 with 1 Axes>"
      ]
     },
     "metadata": {
      "needs_background": "light"
     },
     "output_type": "display_data"
    }
   ],
   "source": [
    "temp = (dataset.groupby(['variation']))['awesome'].value_counts()\\\n",
    ".reset_index(name = \"frequency\")\n",
    "sns.barplot(x = \"variation\", y = \"frequency\", hue = \"awesome\", data = temp)\\\n",
    ".set_title(\"no. of feedbacks in each variation of echo products\")\n",
    "plt.xticks(rotation = 90)\n",
    "plt.savefig('3.png')\n",
    "plt.show()"
   ]
  },
  {
   "cell_type": "markdown",
   "metadata": {},
   "source": [
    "We don't think variation has much information in prediction whether the review is awesome or not. <br>\n",
    "We can drop date column and variations column, since they don't provide much information for further analysis. <br>\n",
    "Now, let's consider only the text used verified_reviews columns, and based on the text used in that we can predict whether those feedbacks were awesome or not. <br>\n",
    "So, for that we did some data preprocessing so that, we can get bag of words collections, which we can use to for tf-idf matrix for each record. "
   ]
  },
  {
   "cell_type": "code",
   "execution_count": 42,
   "metadata": {},
   "outputs": [],
   "source": [
    "corpus = []\n",
    "for i in range(0, 3150):\n",
    "    # column : \"verified_reviews\", row ith \n",
    "    review = re.sub('[^a-zA-Z]', ' ', dataset['verified_reviews'][i])\n",
    "    # convert all cases to lower cases \n",
    "    review = review.lower()\n",
    "    # split to array(default delimiter is \" \") \n",
    "    review = review.split()\n",
    "    # creating PorterStemmer object to \n",
    "    # take main stem of each word\n",
    "    ps = PorterStemmer()\n",
    "    # loop for stemming each word \n",
    "    # in string array at ith row \n",
    "    review = [ps.stem(word) for word in review if not word in set(stopwords.words('english'))]\n",
    "    # rejoin all string array elements \n",
    "    # to create back into a string \n",
    "    review = ' '.join(review)\n",
    "    # append each string to create \n",
    "    # array of clean text  \n",
    "    corpus.append(review)"
   ]
  },
  {
   "cell_type": "code",
   "execution_count": 43,
   "metadata": {},
   "outputs": [
    {
     "data": {
      "text/plain": [
       "'sometim play game answer question correctli alexa say got wrong answer like abl turn light away home'"
      ]
     },
     "execution_count": 43,
     "metadata": {},
     "output_type": "execute_result"
    }
   ],
   "source": [
    "corpus[2]"
   ]
  },
  {
   "cell_type": "code",
   "execution_count": 44,
   "metadata": {},
   "outputs": [
    {
     "data": {
      "text/plain": [
       "'\"Sometimes while playing a game, you can answer a question correctly but Alexa says you got it wrong and answers the same as you.  I like being able to turn lights on and off while away from home.\"'"
      ]
     },
     "execution_count": 44,
     "metadata": {},
     "output_type": "execute_result"
    }
   ],
   "source": [
    "dataset['verified_reviews'][2]"
   ]
  },
  {
   "cell_type": "markdown",
   "metadata": {},
   "source": [
    "Let's use tf-idf vectorizer to creat a bag of word collection. \n",
    "And vectorize each record into tf-idf values"
   ]
  },
  {
   "cell_type": "code",
   "execution_count": 45,
   "metadata": {},
   "outputs": [
    {
     "name": "stdout",
     "output_type": "stream",
     "text": [
      "['abil', 'abl', 'absolut', 'access', 'account', 'activ', 'actual', 'ad', 'adapt', 'add', 'addit', 'advertis', 'alarm', 'alexa', 'allow', 'almost', 'alon', 'along', 'alreadi', 'also', 'although', 'alway', 'amaz', 'amazon', 'annoy', 'anoth', 'answer', 'anyth', 'app', 'appl', 'around', 'ask', 'assist', 'audibl', 'audio', 'avail', 'away', 'awesom', 'back', 'bad', 'base', 'basic', 'bass', 'batteri', 'bed', 'bedroom', 'bedsid', 'begin', 'best', 'better', 'big', 'birthday', 'bit', 'blue', 'bluetooth', 'book', 'bose', 'bought', 'brand', 'brief', 'built', 'bulb', 'button', 'buy', 'cabl', 'call', 'came', 'camera', 'cannot', 'capabl', 'cell', 'chang', 'channel', 'chat', 'check', 'clear', 'clock', 'color', 'come', 'command', 'commun', 'complaint', 'complet', 'comput', 'connect', 'consid', 'constantli', 'contact', 'continu', 'control', 'conveni', 'cook', 'cool', 'cord', 'cost', 'could', 'coupl', 'creat', 'current', 'custom', 'daili', 'daughter', 'day', 'deal', 'decid', 'definit', 'deliv', 'design', 'devic', 'differ', 'direct', 'disappoint', 'discov', 'dislik', 'display', 'done', 'door', 'dot', 'download', 'drop', 'eas', 'easi', 'easier', 'easili', 'echo', 'els', 'enabl', 'end', 'enjoy', 'enough', 'entertain', 'especi', 'etc', 'even', 'ever', 'everi', 'everyon', 'everyth', 'exactli', 'excel', 'except', 'excit', 'expect', 'experi', 'explor', 'extern', 'extra', 'extrem', 'face', 'fact', 'famili', 'fan', 'fantast', 'far', 'fast', 'favorit', 'featur', 'feel', 'figur', 'final', 'find', 'fine', 'fire', 'firestick', 'first', 'fix', 'flash', 'forward', 'found', 'free', 'friend', 'friendli', 'frustrat', 'full', 'fun', 'function', 'futur', 'game', 'gave', 'gen', 'gener', 'get', 'gift', 'give', 'glad', 'go', 'goe', 'good', 'googl', 'got', 'great', 'group', 'half', 'handi', 'happen', 'happi', 'hard', 'hear', 'heard', 'help', 'high', 'highli', 'home', 'hook', 'hope', 'hour', 'hous', 'household', 'howev', 'hub', 'hue', 'huge', 'husband', 'immedi', 'impress', 'improv', 'includ', 'inform', 'instal', 'instead', 'instruct', 'integr', 'interact', 'intercom', 'internet', 'issu', 'item', 'job', 'joke', 'keep', 'kid', 'kind', 'kitchen', 'know', 'lamp', 'later', 'learn', 'least', 'less', 'let', 'life', 'light', 'like', 'limit', 'link', 'list', 'listen', 'littl', 'live', 'lock', 'lol', 'long', 'longer', 'look', 'lot', 'loud', 'louder', 'love', 'low', 'lyric', 'made', 'mainli', 'make', 'mani', 'may', 'mini', 'minut', 'miss', 'mom', 'money', 'month', 'morn', 'mostli', 'mother', 'move', 'movi', 'much', 'multipl', 'music', 'must', 'name', 'nd', 'need', 'netflix', 'never', 'new', 'news', 'next', 'nice', 'night', 'nightstand', 'noth', 'number', 'offer', 'offic', 'often', 'ok', 'old', 'one', 'open', 'oper', 'option', 'order', 'origin', 'outlet', 'overal', 'packag', 'paid', 'pandora', 'part', 'pay', 'peopl', 'perfect', 'perfectli', 'perform', 'person', 'philip', 'phone', 'pick', 'pictur', 'piec', 'plan', 'play', 'playlist', 'pleas', 'plu', 'plug', 'power', 'pretti', 'price', 'prime', 'probabl', 'problem', 'product', 'program', 'provid', 'purchas', 'put', 'qualiti', 'question', 'quick', 'quit', 'radio', 'rang', 'rd', 'read', 'readi', 'real', 'realiz', 'realli', 'reason', 'receiv', 'recip', 'recommend', 'refurbish', 'regret', 'regular', 'remind', 'remot', 'repeat', 'replac', 'request', 'respond', 'respons', 'return', 'review', 'right', 'ring', 'room', 'run', 'said', 'sale', 'satisfi', 'save', 'say', 'schedul', 'screen', 'search', 'second', 'secur', 'see', 'seem', 'servic', 'set', 'setup', 'sever', 'shop', 'show', 'simpl', 'sinc', 'sit', 'size', 'skill', 'sleep', 'small', 'smaller', 'smart', 'someon', 'someth', 'sometim', 'son', 'song', 'soon', 'sound', 'space', 'speak', 'speaker', 'specif', 'spot', 'spotifi', 'st', 'stand', 'star', 'start', 'station', 'step', 'stick', 'still', 'stop', 'stream', 'stuff', 'suggest', 'super', 'support', 'suppos', 'sure', 'surpris', 'switch', 'sync', 'system', 'take', 'talk', 'tech', 'technolog', 'tell', 'terribl', 'thank', 'thermostat', 'thing', 'think', 'third', 'though', 'thought', 'three', 'throughout', 'time', 'timer', 'told', 'took', 'tooth', 'top', 'total', 'touch', 'tri', 'troubl', 'turn', 'tv', 'two', 'type', 'understand', 'unit', 'unless', 'unplug', 'updat', 'upgrad', 'us', 'use', 'user', 'valu', 'via', 'video', 'view', 'voic', 'volum', 'wait', 'wake', 'walk', 'want', 'watch', 'way', 'weather', 'week', 'well', 'went', 'white', 'whole', 'wife', 'wifi', 'wireless', 'wish', 'without', 'wonder', 'word', 'work', 'worth', 'would', 'wrong', 'year', 'yet', 'youtub']\n",
      "(3150, 500)\n",
      "  (0, 257)\t0.6475941971007908\n",
      "  (0, 124)\t0.7619854039818493\n",
      "  (1, 257)\t1.0\n",
      "  (2, 399)\t0.2721173567605258\n",
      "  (2, 322)\t0.17643204062984438\n",
      "  (2, 177)\t0.2818717213501252\n",
      "  (2, 26)\t0.5048203096711343\n",
      "  (2, 339)\t0.23634090310138897\n",
      "  (2, 13)\t0.14538413718642387\n",
      "  (2, 374)\t0.22565613134049495\n",
      "  (2, 189)\t0.21196419792333504\n",
      "  (2, 496)\t0.3185785821805567\n",
      "  (2, 242)\t0.14849721472811817\n",
      "  (2, 1)\t0.2236674149521693\n",
      "  (2, 455)\t0.22036447659800928\n",
      "  (2, 241)\t0.2108160937466327\n",
      "  (2, 36)\t0.28842350145045\n",
      "  (2, 202)\t0.19473749963229675\n",
      "  (3, 322)\t0.42039849081244574\n",
      "  (3, 177)\t0.3358189528253245\n",
      "  (3, 242)\t0.17691799272595543\n",
      "  (3, 241)\t0.25116403838461243\n",
      "  (3, 254)\t0.27322831841266265\n",
      "  (3, 174)\t0.24598283812508004\n",
      "  (3, 438)\t0.21397611953050744\n",
      "  :\t:\n",
      "  (3148, 438)\t0.1299769406847663\n",
      "  (3148, 403)\t0.11383775213436528\n",
      "  (3148, 278)\t0.10675237977967211\n",
      "  (3148, 25)\t0.1714942356922214\n",
      "  (3148, 406)\t0.12852633927799648\n",
      "  (3148, 466)\t0.0981110902018455\n",
      "  (3148, 190)\t0.09394800979762047\n",
      "  (3148, 262)\t0.15723226087769335\n",
      "  (3148, 96)\t0.2127373418492159\n",
      "  (3148, 391)\t0.18393308494165517\n",
      "  (3148, 79)\t0.1733764655496375\n",
      "  (3148, 425)\t0.18144430512432136\n",
      "  (3148, 338)\t0.29588225358044606\n",
      "  (3148, 441)\t0.18591710525849284\n",
      "  (3148, 185)\t0.15882105608947902\n",
      "  (3148, 170)\t0.20289327760520562\n",
      "  (3148, 173)\t0.1960234682397002\n",
      "  (3148, 117)\t0.2537161551800617\n",
      "  (3148, 203)\t0.42003583483813506\n",
      "  (3148, 429)\t0.20511792460126888\n",
      "  (3148, 231)\t0.22424714306846652\n",
      "  (3148, 81)\t0.2156745439932865\n",
      "  (3148, 272)\t0.2223649132110504\n",
      "  (3148, 34)\t0.21417656306141739\n",
      "  (3149, 187)\t1.0\n"
     ]
    }
   ],
   "source": [
    "from sklearn.feature_extraction.text import TfidfVectorizer\n",
    "# from sklearn.feature_extraction.text import CountVectorizer\n",
    "\n",
    "vectorizer = TfidfVectorizer(max_features=500)\n",
    "X = vectorizer.fit_transform(corpus)\n",
    "print(vectorizer.get_feature_names())\n",
    "\n",
    "print(X.shape)\n",
    "print(X)"
   ]
  },
  {
   "cell_type": "code",
   "execution_count": 46,
   "metadata": {},
   "outputs": [
    {
     "data": {
      "text/plain": [
       "(3150, 500)"
      ]
     },
     "execution_count": 46,
     "metadata": {},
     "output_type": "execute_result"
    }
   ],
   "source": [
    "###Creating the bag of words model\n",
    "X = X.toarray()\n",
    "# y = dataset['awesome'].values\n",
    "\n",
    "X.shape"
   ]
  },
  {
   "cell_type": "markdown",
   "metadata": {},
   "source": [
    "Now, we built a simple knn model with default parameters to check if everything is going well. "
   ]
  },
  {
   "cell_type": "code",
   "execution_count": 47,
   "metadata": {},
   "outputs": [],
   "source": [
    "##Splitting the dataset into training set and test set\n",
    "X_train, X_test, y_train, y_test = train_test_split(X, y, test_size = 0.2, stratify=y, random_state = 42)"
   ]
  },
  {
   "cell_type": "code",
   "execution_count": 48,
   "metadata": {},
   "outputs": [
    {
     "data": {
      "text/plain": [
       "KNeighborsClassifier(algorithm='auto', leaf_size=30, metric='minkowski',\n",
       "           metric_params=None, n_jobs=None, n_neighbors=5, p=2,\n",
       "           weights='uniform')"
      ]
     },
     "execution_count": 48,
     "metadata": {},
     "output_type": "execute_result"
    }
   ],
   "source": [
    "# classifier = KNeighborsClassifier(metric='jaccard')\n",
    "classifier = KNeighborsClassifier()\n",
    "classifier.fit(X_train, y_train)"
   ]
  },
  {
   "cell_type": "code",
   "execution_count": 49,
   "metadata": {},
   "outputs": [
    {
     "data": {
      "text/plain": [
       "array([1, 1, 0, 1, 1, 1, 1, 0, 1, 1, 0, 1, 0, 1, 1, 1, 0, 1, 1, 0, 1, 0,\n",
       "       1, 1, 1, 1, 1, 1, 1, 1, 1, 1, 1, 1, 1, 1, 1, 0, 0, 1, 1, 1, 1, 1,\n",
       "       1, 1, 0, 1, 1, 1, 1, 1, 1, 1, 0, 1, 1, 1, 0, 1, 1, 1, 0, 1, 1, 1,\n",
       "       0, 0, 1, 0, 0, 1, 1, 0, 0, 1, 1, 1, 1, 1, 1, 1, 0, 0, 1, 1, 1, 1,\n",
       "       0, 1, 1, 0, 1, 1, 0, 1, 0, 1, 1, 0, 1, 1, 1, 1, 1, 0, 0, 1, 1, 1,\n",
       "       1, 1, 0, 1, 1, 0, 0, 1, 1, 1, 0, 1, 1, 0, 0, 1, 1, 0, 1, 1, 1, 0,\n",
       "       1, 1, 1, 1, 0, 1, 1, 0, 1, 1, 0, 0, 1, 1, 1, 0, 1, 1, 1, 1, 1, 1,\n",
       "       1, 1, 0, 1, 0, 1, 1, 1, 1, 0, 1, 1, 0, 0, 1, 0, 1, 1, 1, 0, 1, 1,\n",
       "       0, 1, 0, 0, 0, 1, 1, 1, 1, 0, 1, 0, 1, 1, 1, 0, 1, 1, 0, 0, 1, 1,\n",
       "       1, 1, 1, 1, 1, 1, 0, 1, 1, 1, 1, 1, 1, 1, 0, 0, 0, 0, 1, 0, 1, 0,\n",
       "       1, 0, 1, 1, 1, 1, 1, 1, 1, 1, 1, 1, 1, 0, 1, 1, 0, 1, 1, 1, 0, 1,\n",
       "       1, 1, 1, 1, 1, 0, 1, 1, 1, 1, 1, 1, 1, 1, 1, 1, 0, 0, 1, 1, 1, 1,\n",
       "       1, 1, 0, 1, 1, 1, 1, 1, 1, 1, 0, 1, 0, 1, 0, 1, 1, 0, 1, 1, 1, 1,\n",
       "       1, 1, 0, 1, 1, 1, 1, 1, 1, 1, 0, 1, 1, 1, 0, 0, 1, 1, 0, 0, 1, 1,\n",
       "       1, 1, 1, 0, 0, 1, 1, 1, 0, 1, 1, 1, 1, 1, 1, 1, 0, 1, 1, 1, 0, 1,\n",
       "       0, 1, 1, 1, 0, 0, 1, 0, 0, 1, 0, 0, 1, 0, 1, 0, 1, 1, 0, 1, 1, 1,\n",
       "       1, 1, 1, 0, 1, 1, 0, 1, 1, 1, 0, 1, 1, 1, 1, 1, 1, 1, 0, 1, 1, 0,\n",
       "       1, 0, 1, 1, 1, 1, 0, 0, 0, 1, 0, 1, 0, 0, 1, 1, 1, 1, 1, 1, 1, 1,\n",
       "       1, 0, 0, 1, 1, 1, 0, 0, 1, 1, 0, 0, 1, 1, 1, 0, 0, 1, 0, 1, 1, 1,\n",
       "       1, 0, 1, 0, 0, 1, 1, 0, 1, 1, 1, 1, 1, 1, 1, 1, 1, 1, 1, 0, 1, 1,\n",
       "       1, 1, 0, 1, 0, 1, 1, 1, 1, 0, 0, 1, 1, 1, 1, 1, 1, 0, 1, 0, 1, 1,\n",
       "       1, 1, 1, 0, 1, 1, 1, 1, 0, 1, 0, 0, 1, 1, 1, 1, 0, 0, 0, 1, 1, 1,\n",
       "       1, 1, 1, 1, 0, 1, 1, 1, 1, 1, 1, 1, 1, 1, 1, 1, 1, 0, 1, 1, 1, 1,\n",
       "       1, 1, 1, 0, 0, 1, 0, 1, 1, 0, 1, 0, 0, 1, 1, 0, 1, 1, 1, 1, 1, 1,\n",
       "       1, 1, 1, 1, 1, 1, 1, 1, 1, 1, 1, 1, 0, 1, 1, 1, 1, 1, 0, 0, 0, 1,\n",
       "       0, 1, 1, 1, 1, 0, 1, 0, 1, 1, 0, 0, 1, 0, 1, 1, 1, 1, 1, 1, 0, 0,\n",
       "       0, 0, 1, 0, 0, 1, 0, 1, 1, 1, 1, 0, 1, 1, 1, 1, 0, 1, 1, 1, 1, 1,\n",
       "       1, 1, 1, 0, 0, 1, 1, 1, 1, 0, 1, 1, 0, 1, 1, 1, 1, 1, 1, 1, 1, 0,\n",
       "       1, 1, 1, 1, 0, 1, 1, 0, 1, 1, 1, 1, 0, 0])"
      ]
     },
     "execution_count": 49,
     "metadata": {},
     "output_type": "execute_result"
    }
   ],
   "source": [
    "y_test"
   ]
  },
  {
   "cell_type": "code",
   "execution_count": 50,
   "metadata": {},
   "outputs": [
    {
     "data": {
      "text/plain": [
       "array([1, 0, 1, 1, 1, 0, 1, 1, 1, 0, 0, 1, 0, 1, 1, 0, 0, 1, 1, 0, 1, 0,\n",
       "       1, 1, 0, 1, 1, 1, 1, 1, 1, 0, 1, 0, 1, 1, 0, 0, 1, 1, 1, 1, 0, 0,\n",
       "       0, 1, 1, 1, 0, 1, 0, 1, 1, 1, 1, 0, 0, 1, 0, 1, 1, 1, 0, 1, 1, 0,\n",
       "       0, 0, 1, 0, 0, 1, 0, 0, 0, 1, 0, 1, 0, 1, 1, 1, 0, 0, 0, 1, 1, 1,\n",
       "       0, 1, 0, 0, 1, 1, 0, 1, 0, 1, 1, 0, 1, 1, 1, 1, 1, 0, 0, 0, 1, 1,\n",
       "       1, 1, 1, 1, 0, 1, 0, 0, 1, 1, 1, 1, 1, 1, 0, 0, 1, 0, 1, 1, 1, 0,\n",
       "       1, 0, 1, 0, 0, 1, 1, 1, 1, 1, 0, 1, 1, 1, 1, 1, 1, 1, 0, 1, 0, 1,\n",
       "       1, 1, 1, 1, 0, 1, 1, 1, 0, 1, 0, 1, 0, 0, 0, 1, 1, 1, 1, 1, 0, 1,\n",
       "       0, 1, 0, 0, 0, 0, 0, 0, 0, 0, 1, 1, 1, 0, 1, 1, 1, 1, 0, 1, 1, 0,\n",
       "       1, 1, 1, 1, 1, 0, 1, 1, 0, 1, 1, 1, 1, 1, 1, 0, 0, 1, 1, 0, 0, 1,\n",
       "       1, 1, 0, 1, 0, 0, 1, 1, 1, 1, 1, 0, 1, 1, 1, 1, 0, 0, 1, 1, 0, 1,\n",
       "       0, 0, 1, 1, 1, 0, 1, 0, 0, 1, 1, 1, 0, 1, 1, 1, 1, 0, 1, 1, 1, 1,\n",
       "       0, 0, 0, 1, 0, 1, 1, 1, 0, 0, 1, 1, 1, 1, 0, 0, 0, 1, 0, 1, 1, 1,\n",
       "       1, 0, 0, 1, 1, 1, 1, 1, 0, 0, 1, 1, 0, 1, 0, 1, 1, 1, 1, 1, 1, 1,\n",
       "       1, 1, 1, 0, 0, 1, 0, 1, 0, 0, 1, 1, 1, 1, 1, 1, 1, 0, 1, 1, 1, 1,\n",
       "       0, 1, 0, 1, 1, 1, 1, 0, 0, 0, 0, 0, 1, 1, 1, 0, 0, 1, 1, 0, 1, 0,\n",
       "       1, 0, 0, 1, 1, 0, 1, 1, 1, 1, 1, 1, 0, 1, 1, 0, 0, 1, 1, 1, 0, 1,\n",
       "       1, 0, 1, 1, 1, 1, 1, 1, 0, 1, 1, 1, 0, 0, 1, 1, 1, 1, 1, 0, 0, 1,\n",
       "       1, 0, 1, 1, 1, 0, 0, 0, 1, 1, 0, 0, 0, 0, 1, 0, 0, 1, 0, 0, 1, 1,\n",
       "       1, 1, 1, 0, 0, 0, 1, 0, 1, 1, 1, 1, 1, 1, 0, 1, 1, 1, 1, 0, 1, 1,\n",
       "       0, 1, 1, 1, 0, 1, 0, 0, 1, 1, 0, 1, 1, 1, 1, 1, 0, 1, 1, 1, 1, 0,\n",
       "       1, 1, 1, 1, 1, 0, 0, 1, 1, 1, 1, 1, 1, 1, 1, 0, 0, 1, 0, 0, 1, 0,\n",
       "       0, 1, 1, 1, 0, 1, 1, 1, 1, 1, 1, 1, 1, 1, 0, 1, 1, 1, 1, 1, 1, 1,\n",
       "       1, 0, 1, 1, 0, 1, 1, 1, 1, 0, 1, 1, 1, 1, 1, 1, 1, 1, 1, 0, 1, 1,\n",
       "       1, 1, 0, 1, 1, 0, 1, 1, 0, 1, 1, 1, 0, 0, 1, 1, 1, 1, 0, 0, 0, 1,\n",
       "       0, 1, 1, 1, 1, 1, 1, 1, 1, 1, 0, 1, 1, 1, 0, 1, 1, 1, 1, 1, 1, 0,\n",
       "       0, 0, 1, 0, 1, 1, 1, 1, 1, 1, 1, 0, 1, 0, 0, 1, 1, 1, 0, 1, 0, 1,\n",
       "       0, 1, 1, 0, 1, 1, 1, 1, 1, 0, 0, 1, 1, 0, 1, 1, 0, 1, 1, 1, 1, 1,\n",
       "       1, 1, 0, 1, 0, 0, 1, 1, 1, 1, 0, 0, 1, 0])"
      ]
     },
     "execution_count": 50,
     "metadata": {},
     "output_type": "execute_result"
    }
   ],
   "source": [
    "###predicting the test set results\n",
    "y_pred = classifier.predict(X_test)\n",
    "y_pred"
   ]
  },
  {
   "cell_type": "code",
   "execution_count": 51,
   "metadata": {},
   "outputs": [
    {
     "data": {
      "text/plain": [
       "array([[ 96,  77],\n",
       "       [118, 339]])"
      ]
     },
     "execution_count": 51,
     "metadata": {},
     "output_type": "execute_result"
    }
   ],
   "source": [
    "##Making the Confusion matrix\n",
    "cm = confusion_matrix(y_test, y_pred)\n",
    "cm"
   ]
  },
  {
   "cell_type": "code",
   "execution_count": 52,
   "metadata": {},
   "outputs": [
    {
     "name": "stdout",
     "output_type": "stream",
     "text": [
      "              precision    recall  f1-score   support\n",
      "\n",
      "           0       0.45      0.55      0.50       173\n",
      "           1       0.81      0.74      0.78       457\n",
      "\n",
      "   micro avg       0.69      0.69      0.69       630\n",
      "   macro avg       0.63      0.65      0.64       630\n",
      "weighted avg       0.71      0.69      0.70       630\n",
      "\n"
     ]
    }
   ],
   "source": [
    "from sklearn.metrics import classification_report\n",
    "print(classification_report(y_test, y_pred))"
   ]
  },
  {
   "cell_type": "markdown",
   "metadata": {},
   "source": [
    "It seems like everything is going well. We can see that we have obtained f1-score of around .70ish <br>\n",
    "Now, let's find the best estimates and best parameters, by feeding this into gridsearchCV. "
   ]
  },
  {
   "cell_type": "code",
   "execution_count": 53,
   "metadata": {},
   "outputs": [
    {
     "name": "stdout",
     "output_type": "stream",
     "text": [
      "{'algorithm': 'auto', 'leaf_size': 30, 'metric': 'jaccard', 'n_neighbors': 10, 'weights': 'distance'}\n",
      "0.9031151225997964\n"
     ]
    }
   ],
   "source": [
    "params = dict(n_neighbors=[5, 10],weights=['uniform', 'distance'],algorithm=['auto'],\\\n",
    "              leaf_size=[30], metric=['euclidean', 'jaccard'])\n",
    "\n",
    "grid=GridSearchCV(estimator=KNeighborsClassifier(),param_grid=params,cv=10,n_jobs=-1,scoring='f1')\n",
    "grid.fit(X, y)\n",
    "print(grid.best_params_)\n",
    "print(grid.best_score_)"
   ]
  },
  {
   "cell_type": "markdown",
   "metadata": {},
   "source": [
    "Let's build classification report and confusion matrix to get some insight into our model. "
   ]
  },
  {
   "cell_type": "code",
   "execution_count": 54,
   "metadata": {},
   "outputs": [],
   "source": [
    "def scores(y_true, y_pred):\n",
    "    print (classification_report(y_true, y_pred))\n",
    "    print (confusion_matrix(y_true, y_pred))\n",
    "    print ('acc:{}, prec:{}, recall:{}, f1:{}\\n\\n'.format(accuracy_score(y_true, y_pred), \\\n",
    "                                                      precision_score(y_true, y_pred), \n",
    "                                                      recall_score(y_true, y_pred), \n",
    "                                                      f1_score(y_true, y_pred)))\n",
    "    return f1_score(y_true, y_pred)\n"
   ]
  },
  {
   "cell_type": "code",
   "execution_count": 55,
   "metadata": {},
   "outputs": [
    {
     "name": "stdout",
     "output_type": "stream",
     "text": [
      "              precision    recall  f1-score   support\n",
      "\n",
      "           0       0.94      0.84      0.88        87\n",
      "           1       0.94      0.98      0.96       229\n",
      "\n",
      "   micro avg       0.94      0.94      0.94       316\n",
      "   macro avg       0.94      0.91      0.92       316\n",
      "weighted avg       0.94      0.94      0.94       316\n",
      "\n",
      "[[ 73  14]\n",
      " [  5 224]]\n",
      "acc:0.939873417721519, prec:0.9411764705882353, recall:0.9781659388646288, f1:0.9593147751605996\n",
      "\n",
      "\n",
      "              precision    recall  f1-score   support\n",
      "\n",
      "           0       0.67      0.21      0.32        87\n",
      "           1       0.76      0.96      0.85       229\n",
      "\n",
      "   micro avg       0.75      0.75      0.75       316\n",
      "   macro avg       0.71      0.58      0.58       316\n",
      "weighted avg       0.74      0.75      0.70       316\n",
      "\n",
      "[[ 18  69]\n",
      " [  9 220]]\n",
      "acc:0.7531645569620253, prec:0.7612456747404844, recall:0.9606986899563319, f1:0.8494208494208493\n",
      "\n",
      "\n",
      "              precision    recall  f1-score   support\n",
      "\n",
      "           0       0.96      0.80      0.88        87\n",
      "           1       0.93      0.99      0.96       229\n",
      "\n",
      "   micro avg       0.94      0.94      0.94       316\n",
      "   macro avg       0.94      0.90      0.92       316\n",
      "weighted avg       0.94      0.94      0.93       316\n",
      "\n",
      "[[ 70  17]\n",
      " [  3 226]]\n",
      "acc:0.9367088607594937, prec:0.9300411522633745, recall:0.9868995633187773, f1:0.9576271186440679\n",
      "\n",
      "\n",
      "              precision    recall  f1-score   support\n",
      "\n",
      "           0       0.83      0.22      0.35        87\n",
      "           1       0.77      0.98      0.86       229\n",
      "\n",
      "   micro avg       0.77      0.77      0.77       316\n",
      "   macro avg       0.80      0.60      0.60       316\n",
      "weighted avg       0.78      0.77      0.72       316\n",
      "\n",
      "[[ 19  68]\n",
      " [  4 225]]\n",
      "acc:0.7721518987341772, prec:0.7679180887372014, recall:0.982532751091703, f1:0.8620689655172412\n",
      "\n",
      "\n",
      "              precision    recall  f1-score   support\n",
      "\n",
      "           0       0.65      0.23      0.34        86\n",
      "           1       0.77      0.95      0.85       229\n",
      "\n",
      "   micro avg       0.76      0.76      0.76       315\n",
      "   macro avg       0.71      0.59      0.60       315\n",
      "weighted avg       0.73      0.76      0.71       315\n",
      "\n",
      "[[ 20  66]\n",
      " [ 11 218]]\n",
      "acc:0.7555555555555555, prec:0.7676056338028169, recall:0.9519650655021834, f1:0.8499025341130605\n",
      "\n",
      "\n",
      "              precision    recall  f1-score   support\n",
      "\n",
      "           0       0.75      0.21      0.33        86\n",
      "           1       0.77      0.97      0.86       229\n",
      "\n",
      "   micro avg       0.77      0.77      0.77       315\n",
      "   macro avg       0.76      0.59      0.59       315\n",
      "weighted avg       0.76      0.77      0.71       315\n",
      "\n",
      "[[ 18  68]\n",
      " [  6 223]]\n",
      "acc:0.765079365079365, prec:0.7663230240549829, recall:0.9737991266375546, f1:0.8576923076923078\n",
      "\n",
      "\n",
      "              precision    recall  f1-score   support\n",
      "\n",
      "           0       0.55      0.21      0.30        86\n",
      "           1       0.76      0.93      0.84       228\n",
      "\n",
      "   micro avg       0.74      0.74      0.74       314\n",
      "   macro avg       0.65      0.57      0.57       314\n",
      "weighted avg       0.70      0.74      0.69       314\n",
      "\n",
      "[[ 18  68]\n",
      " [ 15 213]]\n",
      "acc:0.7356687898089171, prec:0.7580071174377224, recall:0.9342105263157895, f1:0.8369351669941061\n",
      "\n",
      "\n",
      "              precision    recall  f1-score   support\n",
      "\n",
      "           0       0.87      0.56      0.68        86\n",
      "           1       0.85      0.97      0.91       228\n",
      "\n",
      "   micro avg       0.86      0.86      0.86       314\n",
      "   macro avg       0.86      0.76      0.79       314\n",
      "weighted avg       0.86      0.86      0.85       314\n",
      "\n",
      "[[ 48  38]\n",
      " [  7 221]]\n",
      "acc:0.856687898089172, prec:0.8532818532818532, recall:0.9692982456140351, f1:0.9075975359342916\n",
      "\n",
      "\n",
      "              precision    recall  f1-score   support\n",
      "\n",
      "           0       1.00      0.87      0.93        86\n",
      "           1       0.95      1.00      0.98       228\n",
      "\n",
      "   micro avg       0.96      0.96      0.96       314\n",
      "   macro avg       0.98      0.94      0.95       314\n",
      "weighted avg       0.97      0.96      0.96       314\n",
      "\n",
      "[[ 75  11]\n",
      " [  0 228]]\n",
      "acc:0.964968152866242, prec:0.9539748953974896, recall:1.0, f1:0.9764453961456103\n",
      "\n",
      "\n",
      "              precision    recall  f1-score   support\n",
      "\n",
      "           0       1.00      0.86      0.92        86\n",
      "           1       0.95      1.00      0.97       228\n",
      "\n",
      "   micro avg       0.96      0.96      0.96       314\n",
      "   macro avg       0.97      0.93      0.95       314\n",
      "weighted avg       0.96      0.96      0.96       314\n",
      "\n",
      "[[ 74  12]\n",
      " [  0 228]]\n",
      "acc:0.9617834394904459, prec:0.95, recall:1.0, f1:0.9743589743589743\n",
      "\n",
      "\n",
      "0.9031\n"
     ]
    }
   ],
   "source": [
    "from sklearn.model_selection import cross_val_score\n",
    "from sklearn.metrics import make_scorer\n",
    "knn_final = KNeighborsClassifier(n_neighbors=10, weights='distance', metric='jaccard', algorithm='auto', leaf_size=30)\n",
    "cv_scores = cross_val_score(knn_final, X, y, cv=10, scoring=make_scorer(scores))\n",
    "print(np.mean(cv_scores).round(4))"
   ]
  }
 ],
 "metadata": {
  "kernelspec": {
   "display_name": "Python 3",
   "language": "python",
   "name": "python3"
  },
  "language_info": {
   "codemirror_mode": {
    "name": "ipython",
    "version": 3
   },
   "file_extension": ".py",
   "mimetype": "text/x-python",
   "name": "python",
   "nbconvert_exporter": "python",
   "pygments_lexer": "ipython3",
   "version": "3.7.1"
  }
 },
 "nbformat": 4,
 "nbformat_minor": 2
}
